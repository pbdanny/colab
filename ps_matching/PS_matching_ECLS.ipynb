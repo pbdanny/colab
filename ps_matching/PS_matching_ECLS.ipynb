{
  "nbformat": 4,
  "nbformat_minor": 0,
  "metadata": {
    "colab": {
      "provenance": [],
      "authorship_tag": "ABX9TyMs/Mlgt0H8Hy4n0wGjOIpl",
      "include_colab_link": true
    },
    "kernelspec": {
      "name": "ir",
      "display_name": "R"
    },
    "language_info": {
      "name": "R"
    }
  },
  "cells": [
    {
      "cell_type": "markdown",
      "metadata": {
        "id": "view-in-github",
        "colab_type": "text"
      },
      "source": [
        "<a href=\"https://colab.research.google.com/github/pbdanny/colab/blob/main/ps_matching/PS_matching_ECLS.ipynb\" target=\"_parent\"><img src=\"https://colab.research.google.com/assets/colab-badge.svg\" alt=\"Open In Colab\"/></a>"
      ]
    },
    {
      "cell_type": "markdown",
      "source": [
        "# Analysis from Netflix staff tutorial"
      ],
      "metadata": {
        "id": "4AC1jcZgrAf8"
      }
    },
    {
      "cell_type": "markdown",
      "source": [
        "Source : https://simonejdemyr.com/r-tutorials/statistics/tutorial8.html  \n",
        "**Could not use this article data source**  \n",
        "effect of going to Catholic school, as opposed to public school, on student achievement. Because students who attend Catholic school on average are different from students who attend public school, we will use propensity score matching to get more credible causal estimates of Catholic schooling."
      ],
      "metadata": {
        "id": "EKte9j-ot1pW"
      }
    },
    {
      "cell_type": "markdown",
      "source": [
        "Source 2 : https://rpubs.com/metricsdawg/1037525  \n",
        "\n",
        "Data source ; smaller data size & difference result from above"
      ],
      "metadata": {
        "id": "c5_yETg_3nbj"
      }
    },
    {
      "cell_type": "code",
      "execution_count": null,
      "metadata": {
        "colab": {
          "base_uri": "https://localhost:8080/"
        },
        "id": "SoaUsNkStt-T",
        "outputId": "b2910a15-fe98-4659-ab39-f6342541550a"
      },
      "outputs": [
        {
          "output_type": "stream",
          "name": "stderr",
          "text": [
            "── \u001b[1mAttaching core tidyverse packages\u001b[22m ──────────────────────── tidyverse 2.0.0 ──\n",
            "\u001b[32m✔\u001b[39m \u001b[34mdplyr    \u001b[39m 1.1.4     \u001b[32m✔\u001b[39m \u001b[34mreadr    \u001b[39m 2.1.4\n",
            "\u001b[32m✔\u001b[39m \u001b[34mforcats  \u001b[39m 1.0.0     \u001b[32m✔\u001b[39m \u001b[34mstringr  \u001b[39m 1.5.1\n",
            "\u001b[32m✔\u001b[39m \u001b[34mggplot2  \u001b[39m 3.4.4     \u001b[32m✔\u001b[39m \u001b[34mtibble   \u001b[39m 3.2.1\n",
            "\u001b[32m✔\u001b[39m \u001b[34mlubridate\u001b[39m 1.9.3     \u001b[32m✔\u001b[39m \u001b[34mtidyr    \u001b[39m 1.3.0\n",
            "\u001b[32m✔\u001b[39m \u001b[34mpurrr    \u001b[39m 1.0.2     \n",
            "── \u001b[1mConflicts\u001b[22m ────────────────────────────────────────── tidyverse_conflicts() ──\n",
            "\u001b[31m✖\u001b[39m \u001b[34mdplyr\u001b[39m::\u001b[32mfilter()\u001b[39m masks \u001b[34mstats\u001b[39m::filter()\n",
            "\u001b[31m✖\u001b[39m \u001b[34mdplyr\u001b[39m::\u001b[32mlag()\u001b[39m    masks \u001b[34mstats\u001b[39m::lag()\n",
            "\u001b[36mℹ\u001b[39m Use the conflicted package (\u001b[3m\u001b[34m<http://conflicted.r-lib.org/>\u001b[39m\u001b[23m) to force all conflicts to become errors\n"
          ]
        }
      ],
      "source": [
        "library(tidyverse)"
      ]
    },
    {
      "cell_type": "code",
      "source": [
        "ecls <- read_csv(\"http://www.mfilipski.com/files/ecls.csv\")"
      ],
      "metadata": {
        "colab": {
          "base_uri": "https://localhost:8080/"
        },
        "id": "24KvOhvswFjA",
        "outputId": "8e67ca5b-9a55-4ee9-d5f2-56be98328608"
      },
      "execution_count": null,
      "outputs": [
        {
          "output_type": "stream",
          "name": "stderr",
          "text": [
            "\u001b[1mRows: \u001b[22m\u001b[34m5429\u001b[39m \u001b[1mColumns: \u001b[22m\u001b[34m23\u001b[39m\n",
            "\u001b[36m──\u001b[39m \u001b[1mColumn specification\u001b[22m \u001b[36m────────────────────────────────────────────────────────\u001b[39m\n",
            "\u001b[1mDelimiter:\u001b[22m \",\"\n",
            "\u001b[31mchr\u001b[39m  (5): childid, race, w3daded, w3momed, w3inccat\n",
            "\u001b[32mdbl\u001b[39m (18): catholic, race_white, race_black, race_hispanic, race_asian, p5num...\n",
            "\n",
            "\u001b[36mℹ\u001b[39m Use `spec()` to retrieve the full column specification for this data.\n",
            "\u001b[36mℹ\u001b[39m Specify the column types or set `show_col_types = FALSE` to quiet this message.\n"
          ]
        }
      ]
    },
    {
      "cell_type": "markdown",
      "source": [
        "## 1) Pre-analysis"
      ],
      "metadata": {
        "id": "-IQ36cqrtZD1"
      }
    },
    {
      "cell_type": "markdown",
      "source": [
        "### 1.1) Difference in Mean: outcome variable"
      ],
      "metadata": {
        "id": "LrbK-FzPti_Z"
      }
    },
    {
      "cell_type": "code",
      "source": [
        "ecls %>%\n",
        "  group_by(catholic) %>%\n",
        "  summarise(n_students = n(),\n",
        "            mean_math = mean(c5r2mtsc_std), # std test score.\n",
        "            std_error = sd(c5r2mtsc_std)/sqrt(n_students))"
      ],
      "metadata": {
        "colab": {
          "base_uri": "https://localhost:8080/",
          "height": 161
        },
        "id": "b1EBQf0rwLWL",
        "outputId": "70f15702-a194-4e38-ef9f-adaf2664fa0b"
      },
      "execution_count": null,
      "outputs": [
        {
          "output_type": "display_data",
          "data": {
            "text/html": [
              "<table class=\"dataframe\">\n",
              "<caption>A tibble: 2 × 4</caption>\n",
              "<thead>\n",
              "\t<tr><th scope=col>catholic</th><th scope=col>n_students</th><th scope=col>mean_math</th><th scope=col>std_error</th></tr>\n",
              "\t<tr><th scope=col>&lt;dbl&gt;</th><th scope=col>&lt;int&gt;</th><th scope=col>&lt;dbl&gt;</th><th scope=col>&lt;dbl&gt;</th></tr>\n",
              "</thead>\n",
              "<tbody>\n",
              "\t<tr><td>0</td><td>4499</td><td>0.1631279</td><td>0.01451663</td></tr>\n",
              "\t<tr><td>1</td><td> 930</td><td>0.2196851</td><td>0.02813170</td></tr>\n",
              "</tbody>\n",
              "</table>\n"
            ],
            "text/markdown": "\nA tibble: 2 × 4\n\n| catholic &lt;dbl&gt; | n_students &lt;int&gt; | mean_math &lt;dbl&gt; | std_error &lt;dbl&gt; |\n|---|---|---|---|\n| 0 | 4499 | 0.1631279 | 0.01451663 |\n| 1 |  930 | 0.2196851 | 0.02813170 |\n\n",
            "text/latex": "A tibble: 2 × 4\n\\begin{tabular}{llll}\n catholic & n\\_students & mean\\_math & std\\_error\\\\\n <dbl> & <int> & <dbl> & <dbl>\\\\\n\\hline\n\t 0 & 4499 & 0.1631279 & 0.01451663\\\\\n\t 1 &  930 & 0.2196851 & 0.02813170\\\\\n\\end{tabular}\n",
            "text/plain": [
              "  catholic n_students mean_math std_error \n",
              "1 0        4499       0.1631279 0.01451663\n",
              "2 1         930       0.2196851 0.02813170"
            ]
          },
          "metadata": {}
        }
      ]
    },
    {
      "cell_type": "code",
      "source": [
        "ecls %>%\n",
        "  group_by(catholic) %>%\n",
        "  summarise_at(vars(c5r2mtsc_std), list(min = min, mean = mean, max = max))"
      ],
      "metadata": {
        "colab": {
          "base_uri": "https://localhost:8080/",
          "height": 161
        },
        "id": "sgX-IH8Klmim",
        "outputId": "3935b5bc-7606-4c12-8cb9-f2b310b9cbeb"
      },
      "execution_count": null,
      "outputs": [
        {
          "output_type": "display_data",
          "data": {
            "text/html": [
              "<table class=\"dataframe\">\n",
              "<caption>A tibble: 2 × 4</caption>\n",
              "<thead>\n",
              "\t<tr><th scope=col>catholic</th><th scope=col>min</th><th scope=col>mean</th><th scope=col>max</th></tr>\n",
              "\t<tr><th scope=col>&lt;dbl&gt;</th><th scope=col>&lt;dbl&gt;</th><th scope=col>&lt;dbl&gt;</th><th scope=col>&lt;dbl&gt;</th></tr>\n",
              "</thead>\n",
              "<tbody>\n",
              "\t<tr><td>0</td><td>-3.103553</td><td>0.1631279</td><td>3.433658</td></tr>\n",
              "\t<tr><td>1</td><td>-2.592234</td><td>0.2196851</td><td>3.055238</td></tr>\n",
              "</tbody>\n",
              "</table>\n"
            ],
            "text/markdown": "\nA tibble: 2 × 4\n\n| catholic &lt;dbl&gt; | min &lt;dbl&gt; | mean &lt;dbl&gt; | max &lt;dbl&gt; |\n|---|---|---|---|\n| 0 | -3.103553 | 0.1631279 | 3.433658 |\n| 1 | -2.592234 | 0.2196851 | 3.055238 |\n\n",
            "text/latex": "A tibble: 2 × 4\n\\begin{tabular}{llll}\n catholic & min & mean & max\\\\\n <dbl> & <dbl> & <dbl> & <dbl>\\\\\n\\hline\n\t 0 & -3.103553 & 0.1631279 & 3.433658\\\\\n\t 1 & -2.592234 & 0.2196851 & 3.055238\\\\\n\\end{tabular}\n",
            "text/plain": [
              "  catholic min       mean      max     \n",
              "1 0        -3.103553 0.1631279 3.433658\n",
              "2 1        -2.592234 0.2196851 3.055238"
            ]
          },
          "metadata": {}
        }
      ]
    },
    {
      "cell_type": "code",
      "source": [
        "# The c5r2mtsc_std, came from bigger data\n",
        "# Then the std value differ from directly calcuate from data\n",
        "\n",
        "ecls %>%\n",
        "  mutate(test =  (c5r2mtsc - mean(c5r2mtsc))/sd(c5r2mtsc)) %>%\n",
        "  group_by(catholic) %>%\n",
        "  summarise(mean_math = mean(test))"
      ],
      "metadata": {
        "colab": {
          "base_uri": "https://localhost:8080/",
          "height": 161
        },
        "id": "o9YSD2cnyKJ_",
        "outputId": "7494e74c-6f51-472e-d1cf-c66e5f4cd8c2"
      },
      "execution_count": null,
      "outputs": [
        {
          "output_type": "display_data",
          "data": {
            "text/html": [
              "<table class=\"dataframe\">\n",
              "<caption>A tibble: 2 × 2</caption>\n",
              "<thead>\n",
              "\t<tr><th scope=col>catholic</th><th scope=col>mean_math</th></tr>\n",
              "\t<tr><th scope=col>&lt;dbl&gt;</th><th scope=col>&lt;dbl&gt;</th></tr>\n",
              "</thead>\n",
              "<tbody>\n",
              "\t<tr><td>0</td><td>-0.01014466</td></tr>\n",
              "\t<tr><td>1</td><td> 0.04907616</td></tr>\n",
              "</tbody>\n",
              "</table>\n"
            ],
            "text/markdown": "\nA tibble: 2 × 2\n\n| catholic &lt;dbl&gt; | mean_math &lt;dbl&gt; |\n|---|---|\n| 0 | -0.01014466 |\n| 1 |  0.04907616 |\n\n",
            "text/latex": "A tibble: 2 × 2\n\\begin{tabular}{ll}\n catholic & mean\\_math\\\\\n <dbl> & <dbl>\\\\\n\\hline\n\t 0 & -0.01014466\\\\\n\t 1 &  0.04907616\\\\\n\\end{tabular}\n",
            "text/plain": [
              "  catholic mean_math  \n",
              "1 0        -0.01014466\n",
              "2 1         0.04907616"
            ]
          },
          "metadata": {}
        }
      ]
    },
    {
      "cell_type": "code",
      "source": [
        "ecls %>%\n",
        "  mutate(test = scale(c5r2mtsc)) %>%\n",
        "  group_by(catholic) %>%\n",
        "  summarise(mean_math = mean(test))"
      ],
      "metadata": {
        "colab": {
          "base_uri": "https://localhost:8080/",
          "height": 161
        },
        "id": "woZTRrlOziZR",
        "outputId": "e773ae46-adfd-44da-a128-6b025d98e8e3"
      },
      "execution_count": null,
      "outputs": [
        {
          "output_type": "display_data",
          "data": {
            "text/html": [
              "<table class=\"dataframe\">\n",
              "<caption>A tibble: 2 × 2</caption>\n",
              "<thead>\n",
              "\t<tr><th scope=col>catholic</th><th scope=col>mean_math</th></tr>\n",
              "\t<tr><th scope=col>&lt;dbl&gt;</th><th scope=col>&lt;dbl&gt;</th></tr>\n",
              "</thead>\n",
              "<tbody>\n",
              "\t<tr><td>0</td><td>-0.01014466</td></tr>\n",
              "\t<tr><td>1</td><td> 0.04907616</td></tr>\n",
              "</tbody>\n",
              "</table>\n"
            ],
            "text/markdown": "\nA tibble: 2 × 2\n\n| catholic &lt;dbl&gt; | mean_math &lt;dbl&gt; |\n|---|---|\n| 0 | -0.01014466 |\n| 1 |  0.04907616 |\n\n",
            "text/latex": "A tibble: 2 × 2\n\\begin{tabular}{ll}\n catholic & mean\\_math\\\\\n <dbl> & <dbl>\\\\\n\\hline\n\t 0 & -0.01014466\\\\\n\t 1 &  0.04907616\\\\\n\\end{tabular}\n",
            "text/plain": [
              "  catholic mean_math  \n",
              "1 0        -0.01014466\n",
              "2 1         0.04907616"
            ]
          },
          "metadata": {}
        }
      ]
    },
    {
      "cell_type": "code",
      "source": [
        "# confidence difference in mean, before pre-treatment covariate\n",
        "t.test(c5r2mtsc_std ~ catholic, data = ecls)"
      ],
      "metadata": {
        "colab": {
          "base_uri": "https://localhost:8080/",
          "height": 208
        },
        "id": "mAqFrgrK0m32",
        "outputId": "ef3f9292-3808-4ae3-b580-fb82ed2d85f5"
      },
      "execution_count": null,
      "outputs": [
        {
          "output_type": "display_data",
          "data": {
            "text/plain": [
              "\n",
              "\tWelch Two Sample t-test\n",
              "\n",
              "data:  c5r2mtsc_std by catholic\n",
              "t = -1.7866, df = 1468.1, p-value = 0.07421\n",
              "alternative hypothesis: true difference in means between group 0 and group 1 is not equal to 0\n",
              "95 percent confidence interval:\n",
              " -0.118653665  0.005539377\n",
              "sample estimates:\n",
              "mean in group 0 mean in group 1 \n",
              "      0.1631279       0.2196851 \n"
            ]
          },
          "metadata": {}
        }
      ]
    },
    {
      "cell_type": "markdown",
      "source": [
        "The difference in mean between each group not statistically difference, with confidence interval having 0 in the range"
      ],
      "metadata": {
        "id": "RzP9JaNOnAlQ"
      }
    },
    {
      "cell_type": "markdown",
      "source": [
        "### 1.2) Difference-in-mean : pre-treatment covariate"
      ],
      "metadata": {
        "id": "0TF1yA2343Sw"
      }
    },
    {
      "cell_type": "code",
      "source": [
        "ecls_cov = c(\"race_white\", \"p5hmage\", \"w3income\", \"p5numpla\", \"w3momed_hsb\")\n",
        "ecls %>%\n",
        "  group_by(catholic) %>%\n",
        "  select(one_of(ecls_cov)) %>%\n",
        "  summarise_all( list(~ mean(., na.rm=T)) )"
      ],
      "metadata": {
        "colab": {
          "base_uri": "https://localhost:8080/",
          "height": 178
        },
        "id": "jMD6Gumi1sZA",
        "outputId": "066ff8ab-4cd2-4b1c-8d6b-e1ecbcbcb958"
      },
      "execution_count": null,
      "outputs": [
        {
          "output_type": "stream",
          "name": "stderr",
          "text": [
            "\u001b[1m\u001b[22mAdding missing grouping variables: `catholic`\n"
          ]
        },
        {
          "output_type": "display_data",
          "data": {
            "text/html": [
              "<table class=\"dataframe\">\n",
              "<caption>A tibble: 2 × 6</caption>\n",
              "<thead>\n",
              "\t<tr><th scope=col>catholic</th><th scope=col>race_white</th><th scope=col>p5hmage</th><th scope=col>w3income</th><th scope=col>p5numpla</th><th scope=col>w3momed_hsb</th></tr>\n",
              "\t<tr><th scope=col>&lt;dbl&gt;</th><th scope=col>&lt;dbl&gt;</th><th scope=col>&lt;dbl&gt;</th><th scope=col>&lt;dbl&gt;</th><th scope=col>&lt;dbl&gt;</th><th scope=col>&lt;dbl&gt;</th></tr>\n",
              "</thead>\n",
              "<tbody>\n",
              "\t<tr><td>0</td><td>0.6537008</td><td>37.79462</td><td>65393.93</td><td>1.106246</td><td>0.3923094</td></tr>\n",
              "\t<tr><td>1</td><td>0.7666667</td><td>39.77527</td><td>86180.63</td><td>1.073118</td><td>0.2053763</td></tr>\n",
              "</tbody>\n",
              "</table>\n"
            ],
            "text/markdown": "\nA tibble: 2 × 6\n\n| catholic &lt;dbl&gt; | race_white &lt;dbl&gt; | p5hmage &lt;dbl&gt; | w3income &lt;dbl&gt; | p5numpla &lt;dbl&gt; | w3momed_hsb &lt;dbl&gt; |\n|---|---|---|---|---|---|\n| 0 | 0.6537008 | 37.79462 | 65393.93 | 1.106246 | 0.3923094 |\n| 1 | 0.7666667 | 39.77527 | 86180.63 | 1.073118 | 0.2053763 |\n\n",
            "text/latex": "A tibble: 2 × 6\n\\begin{tabular}{llllll}\n catholic & race\\_white & p5hmage & w3income & p5numpla & w3momed\\_hsb\\\\\n <dbl> & <dbl> & <dbl> & <dbl> & <dbl> & <dbl>\\\\\n\\hline\n\t 0 & 0.6537008 & 37.79462 & 65393.93 & 1.106246 & 0.3923094\\\\\n\t 1 & 0.7666667 & 39.77527 & 86180.63 & 1.073118 & 0.2053763\\\\\n\\end{tabular}\n",
            "text/plain": [
              "  catholic race_white p5hmage  w3income p5numpla w3momed_hsb\n",
              "1 0        0.6537008  37.79462 65393.93 1.106246 0.3923094  \n",
              "2 1        0.7666667  39.77527 86180.63 1.073118 0.2053763  "
            ]
          },
          "metadata": {}
        }
      ]
    },
    {
      "cell_type": "code",
      "source": [
        "# t-test of difference in mean by each covariates\n",
        "test_each_fn <- function(v) {\n",
        "    t.test(ecls[, v] ~ ecls[, \"catholic\"])\n",
        "}\n",
        "\n",
        "apply(ecls_cov, test_each_fn)"
      ],
      "metadata": {
        "id": "csUiLZCY5SrO",
        "colab": {
          "base_uri": "https://localhost:8080/",
          "height": 160
        },
        "outputId": "77a2f6a8-ad34-4316-e529-a3284ad26c23"
      },
      "execution_count": null,
      "outputs": [
        {
          "output_type": "error",
          "ename": "ERROR",
          "evalue": "ignored",
          "traceback": [
            "Error in apply(ecls_cov, test_each_fn): argument \"FUN\" is missing, with no default\nTraceback:\n",
            "1. apply(ecls_cov, test_each_fn)",
            "2. match.fun(FUN)"
          ]
        }
      ]
    },
    {
      "cell_type": "code",
      "source": [
        "t.test(race_white ~ catholic, data = ecls)"
      ],
      "metadata": {
        "colab": {
          "base_uri": "https://localhost:8080/",
          "height": 208
        },
        "id": "Cp76KXHJp8pf",
        "outputId": "bd737f38-b49f-4ef0-ef5d-d11b00cc979d"
      },
      "execution_count": null,
      "outputs": [
        {
          "output_type": "display_data",
          "data": {
            "text/plain": [
              "\n",
              "\tWelch Two Sample t-test\n",
              "\n",
              "data:  race_white by catholic\n",
              "t = -7.2484, df = 1457.5, p-value = 6.814e-13\n",
              "alternative hypothesis: true difference in means between group 0 and group 1 is not equal to 0\n",
              "95 percent confidence interval:\n",
              " -0.14353706 -0.08239463\n",
              "sample estimates:\n",
              "mean in group 0 mean in group 1 \n",
              "      0.6537008       0.7666667 \n"
            ]
          },
          "metadata": {}
        }
      ]
    },
    {
      "cell_type": "code",
      "source": [
        "t.test(p5hmage ~ catholic, data = ecls)"
      ],
      "metadata": {
        "colab": {
          "base_uri": "https://localhost:8080/",
          "height": 208
        },
        "id": "NFcJUjVgsxcS",
        "outputId": "090ecae5-52f9-4085-c853-fd21261aa5b3"
      },
      "execution_count": null,
      "outputs": [
        {
          "output_type": "display_data",
          "data": {
            "text/plain": [
              "\n",
              "\tWelch Two Sample t-test\n",
              "\n",
              "data:  p5hmage by catholic\n",
              "t = -11.207, df = 1562.1, p-value < 2.2e-16\n",
              "alternative hypothesis: true difference in means between group 0 and group 1 is not equal to 0\n",
              "95 percent confidence interval:\n",
              " -2.327294 -1.634002\n",
              "sample estimates:\n",
              "mean in group 0 mean in group 1 \n",
              "       37.79462        39.77527 \n"
            ]
          },
          "metadata": {}
        }
      ]
    },
    {
      "cell_type": "code",
      "source": [
        "t.test(w3income ~ catholic, data = ecls)"
      ],
      "metadata": {
        "colab": {
          "base_uri": "https://localhost:8080/",
          "height": 208
        },
        "id": "H6GP5T8Vs7gX",
        "outputId": "a9922147-1fb8-4488-91e1-0dc50e5a5d24"
      },
      "execution_count": null,
      "outputs": [
        {
          "output_type": "display_data",
          "data": {
            "text/plain": [
              "\n",
              "\tWelch Two Sample t-test\n",
              "\n",
              "data:  w3income by catholic\n",
              "t = -13.238, df = 1314.5, p-value < 2.2e-16\n",
              "alternative hypothesis: true difference in means between group 0 and group 1 is not equal to 0\n",
              "95 percent confidence interval:\n",
              " -23867.19 -17706.20\n",
              "sample estimates:\n",
              "mean in group 0 mean in group 1 \n",
              "       65393.93        86180.63 \n"
            ]
          },
          "metadata": {}
        }
      ]
    },
    {
      "cell_type": "code",
      "source": [
        "t.test(p5numpla ~ catholic, data = ecls)"
      ],
      "metadata": {
        "colab": {
          "base_uri": "https://localhost:8080/",
          "height": 208
        },
        "id": "LAaVWvYLtBUm",
        "outputId": "29393d17-a674-4a63-a930-fa8d60553ec9"
      },
      "execution_count": null,
      "outputs": [
        {
          "output_type": "display_data",
          "data": {
            "text/plain": [
              "\n",
              "\tWelch Two Sample t-test\n",
              "\n",
              "data:  p5numpla by catholic\n",
              "t = 3.128, df = 1600.4, p-value = 0.001792\n",
              "alternative hypothesis: true difference in means between group 0 and group 1 is not equal to 0\n",
              "95 percent confidence interval:\n",
              " 0.01235472 0.05390038\n",
              "sample estimates:\n",
              "mean in group 0 mean in group 1 \n",
              "       1.106246        1.073118 \n"
            ]
          },
          "metadata": {}
        }
      ]
    },
    {
      "cell_type": "code",
      "source": [
        "t.test(w3momed_hsb ~ catholic, data = ecls)"
      ],
      "metadata": {
        "colab": {
          "base_uri": "https://localhost:8080/",
          "height": 208
        },
        "id": "M5aiyD8ftHCM",
        "outputId": "b34663cf-967b-4726-857d-dc889ef7b190"
      },
      "execution_count": null,
      "outputs": [
        {
          "output_type": "display_data",
          "data": {
            "text/plain": [
              "\n",
              "\tWelch Two Sample t-test\n",
              "\n",
              "data:  w3momed_hsb by catholic\n",
              "t = 12.362, df = 1545.1, p-value < 2.2e-16\n",
              "alternative hypothesis: true difference in means between group 0 and group 1 is not equal to 0\n",
              "95 percent confidence interval:\n",
              " 0.1572715 0.2165946\n",
              "sample estimates:\n",
              "mean in group 0 mean in group 1 \n",
              "      0.3923094       0.2053763 \n"
            ]
          },
          "metadata": {}
        }
      ]
    },
    {
      "cell_type": "markdown",
      "source": [
        "## 2) Propensity score estimation\n",
        "We estimate the propensity score by running a logit model (probit also works) where the outcome variable is a binary variable indicating treatment status. What covariates should you include? For the matching to give you a causal estimate in the end, you need to include any covariate that is related to both the treatment assignment and potential outcomes. I choose just a few covariates below—they are unlikely to capture all covariates that should be included. You’ll be asked to come up with a potentially better model on your own later."
      ],
      "metadata": {
        "id": "y_NiKznPtreS"
      }
    },
    {
      "cell_type": "code",
      "source": [
        "ecls <- ecls %>% mutate(w3income_1k = w3income / 1000)\n",
        "m_ps <- glm(catholic ~ race_white + w3income_1k + p5hmage + p5numpla + w3momed_hsb, family = binomial(), data = ecls)\n",
        "summary(m_ps)"
      ],
      "metadata": {
        "colab": {
          "base_uri": "https://localhost:8080/",
          "height": 416
        },
        "id": "KNKXIU27tMkI",
        "outputId": "eb5a40e2-00f7-40bc-c281-01db8794fa53"
      },
      "execution_count": null,
      "outputs": [
        {
          "output_type": "display_data",
          "data": {
            "text/plain": [
              "\n",
              "Call:\n",
              "glm(formula = catholic ~ race_white + w3income_1k + p5hmage + \n",
              "    p5numpla + w3momed_hsb, family = binomial(), data = ecls)\n",
              "\n",
              "Coefficients:\n",
              "              Estimate Std. Error z value Pr(>|z|)    \n",
              "(Intercept) -3.4092820  0.3263351 -10.447  < 2e-16 ***\n",
              "race_white   0.3001516  0.0870242   3.449 0.000563 ***\n",
              "w3income_1k  0.0063463  0.0008473   7.490 6.88e-14 ***\n",
              "p5hmage      0.0395347  0.0070820   5.582 2.37e-08 ***\n",
              "p5numpla    -0.2106296  0.1230279  -1.712 0.086888 .  \n",
              "w3momed_hsb -0.5644212  0.0926141  -6.094 1.10e-09 ***\n",
              "---\n",
              "Signif. codes:  0 ‘***’ 0.001 ‘**’ 0.01 ‘*’ 0.05 ‘.’ 0.1 ‘ ’ 1\n",
              "\n",
              "(Dispersion parameter for binomial family taken to be 1)\n",
              "\n",
              "    Null deviance: 4972.4  on 5428  degrees of freedom\n",
              "Residual deviance: 4706.8  on 5423  degrees of freedom\n",
              "AIC: 4718.8\n",
              "\n",
              "Number of Fisher Scoring iterations: 5\n"
            ]
          },
          "metadata": {}
        }
      ]
    },
    {
      "cell_type": "markdown",
      "source": [
        "Using this model, we can now calculate the propensity score for each student. It is simply __the student’s predicted probability of being Treated__, given the __estimates from the logit model.__   \n",
        "Below, I calculate this propensity score using `predict()` and create a dataframe that has the propensity score as well as the student’s actual treatment status."
      ],
      "metadata": {
        "id": "UedsszxiuxKy"
      }
    },
    {
      "cell_type": "code",
      "source": [
        "pr_score  <- predict(m_ps, type = \"response\") # default type log-odd, \"response\" yield probability\n",
        "\n",
        "prs_df <- data.frame(pr_score = predict(m_ps, type = \"response\"),\n",
        "                     catholic = m_ps$model$catholic)\n",
        "\n",
        "head(prs_df)"
      ],
      "metadata": {
        "colab": {
          "base_uri": "https://localhost:8080/",
          "height": 286
        },
        "id": "BSbaJ86kuPtY",
        "outputId": "0063d4f7-eb1c-48d9-8019-3d71e7ee7e00"
      },
      "execution_count": null,
      "outputs": [
        {
          "output_type": "display_data",
          "data": {
            "text/html": [
              "<table class=\"dataframe\">\n",
              "<caption>A data.frame: 6 × 2</caption>\n",
              "<thead>\n",
              "\t<tr><th></th><th scope=col>pr_score</th><th scope=col>catholic</th></tr>\n",
              "\t<tr><th></th><th scope=col>&lt;dbl&gt;</th><th scope=col>&lt;dbl&gt;</th></tr>\n",
              "</thead>\n",
              "<tbody>\n",
              "\t<tr><th scope=row>1</th><td>0.2563583</td><td>0</td></tr>\n",
              "\t<tr><th scope=row>2</th><td>0.1957217</td><td>0</td></tr>\n",
              "\t<tr><th scope=row>3</th><td>0.2273875</td><td>0</td></tr>\n",
              "\t<tr><th scope=row>4</th><td>0.2206060</td><td>1</td></tr>\n",
              "\t<tr><th scope=row>5</th><td>0.3752679</td><td>0</td></tr>\n",
              "\t<tr><th scope=row>6</th><td>0.2137964</td><td>0</td></tr>\n",
              "</tbody>\n",
              "</table>\n"
            ],
            "text/markdown": "\nA data.frame: 6 × 2\n\n| <!--/--> | pr_score &lt;dbl&gt; | catholic &lt;dbl&gt; |\n|---|---|---|\n| 1 | 0.2563583 | 0 |\n| 2 | 0.1957217 | 0 |\n| 3 | 0.2273875 | 0 |\n| 4 | 0.2206060 | 1 |\n| 5 | 0.3752679 | 0 |\n| 6 | 0.2137964 | 0 |\n\n",
            "text/latex": "A data.frame: 6 × 2\n\\begin{tabular}{r|ll}\n  & pr\\_score & catholic\\\\\n  & <dbl> & <dbl>\\\\\n\\hline\n\t1 & 0.2563583 & 0\\\\\n\t2 & 0.1957217 & 0\\\\\n\t3 & 0.2273875 & 0\\\\\n\t4 & 0.2206060 & 1\\\\\n\t5 & 0.3752679 & 0\\\\\n\t6 & 0.2137964 & 0\\\\\n\\end{tabular}\n",
            "text/plain": [
              "  pr_score  catholic\n",
              "1 0.2563583 0       \n",
              "2 0.1957217 0       \n",
              "3 0.2273875 0       \n",
              "4 0.2206060 1       \n",
              "5 0.3752679 0       \n",
              "6 0.2137964 0       "
            ]
          },
          "metadata": {}
        }
      ]
    },
    {
      "cell_type": "code",
      "source": [
        "labs <- paste(\"Actual school type attended:\", c(\"Catholic\", \"Public\"))\n",
        "\n",
        "prs_df %>%\n",
        "  mutate(catholic = ifelse(catholic == 1, labs[1], labs[2])) %>%\n",
        "  ggplot(aes(x = pr_score)) +\n",
        "  geom_histogram(color = \"white\") +\n",
        "  facet_wrap(~catholic) +\n",
        "  xlab(\"Probability of going to Catholic school\") +\n",
        "  theme_bw()"
      ],
      "metadata": {
        "colab": {
          "base_uri": "https://localhost:8080/",
          "height": 454
        },
        "id": "LcFhVnJGwvzP",
        "outputId": "b8b27597-6e8c-46d4-ee0a-7986f92e0798"
      },
      "execution_count": null,
      "outputs": [
        {
          "output_type": "stream",
          "name": "stderr",
          "text": [
            "\u001b[1m\u001b[22m`stat_bin()` using `bins = 30`. Pick better value with `binwidth`.\n"
          ]
        },
        {
          "output_type": "display_data",
          "data": {
            "text/plain": [
              "plot without title"
            ],
            "image/png": "[encoded data removed]"
          },
          "metadata": {
            "image/png": {
              "width": 420,
              "height": 420
            }
          }
        }
      ]
    },
    {
      "cell_type": "markdown",
      "source": [
        "## 3) Matching Alogorithm\n",
        "A simple method for estimating the treatment effect of Catholic schooling is to restrict the sample to observations within the region of common support, and then to divide the sample within the region of common support into 5 quintiles, based on the estimated propensity score. Within each of these 5 quintiles, we can then estimate the mean difference in student achievement by treatment status. Rubin and others have argued that this is sufficient to eliminate 95% of the bias due to confounding of treatment status with a covariate.  \n",
        "However, most matching algorithms adopt slightly more complex methods. The method we use below is to find pairs of observations that have very similar propensity scores, but that differ in their treatment status. We use the package MatchIt for this. This package estimates the propensity score in the background and then matches observations based on the method of choice (“nearest” in this case."
      ],
      "metadata": {
        "id": "OwzzLdpL1K76"
      }
    },
    {
      "cell_type": "code",
      "source": [
        "install.packages(\"MatchIt\")"
      ],
      "metadata": {
        "colab": {
          "base_uri": "https://localhost:8080/"
        },
        "id": "v2Avpx7d1Dt0",
        "outputId": "7be64f9a-c4a5-4902-f8a1-01fbdd459d21"
      },
      "execution_count": null,
      "outputs": [
        {
          "output_type": "stream",
          "name": "stderr",
          "text": [
            "Installing package into ‘/usr/local/lib/R/site-library’\n",
            "(as ‘lib’ is unspecified)\n",
            "\n",
            "also installing the dependencies ‘chk’, ‘Rcpp’, ‘RcppProgress’\n",
            "\n",
            "\n"
          ]
        }
      ]
    },
    {
      "cell_type": "code",
      "source": [
        "library(MatchIt)"
      ],
      "metadata": {
        "id": "mtTFfEq82MbK"
      },
      "execution_count": null,
      "outputs": []
    },
    {
      "cell_type": "code",
      "source": [
        "ecls_nomiss <- ecls %>%  # MatchIt does not allow missing values\n",
        "  select(c5r2mtsc_std, catholic, one_of(ecls_cov)) %>%\n",
        "  na.omit()\n",
        "\n",
        "mod_match <- matchit(catholic ~ race_white + w3income + p5hmage + p5numpla + w3momed_hsb,\n",
        "                     method = \"nearest\", data = ecls_nomiss)"
      ],
      "metadata": {
        "id": "lhinh3oY2X71"
      },
      "execution_count": null,
      "outputs": []
    },
    {
      "cell_type": "code",
      "source": [
        "summary(mod_match)"
      ],
      "metadata": {
        "colab": {
          "base_uri": "https://localhost:8080/",
          "height": 764
        },
        "id": "dc9vqjM42jID",
        "outputId": "00b9d50c-828a-4b53-fab0-e73018acfc35"
      },
      "execution_count": null,
      "outputs": [
        {
          "output_type": "display_data",
          "data": {
            "text/plain": [
              "\n",
              "Call:\n",
              "matchit(formula = catholic ~ race_white + w3income + p5hmage + \n",
              "    p5numpla + w3momed_hsb, data = ecls_nomiss, method = \"nearest\")\n",
              "\n",
              "Summary of Balance for All Data:\n",
              "            Means Treated Means Control Std. Mean Diff. Var. Ratio eCDF Mean\n",
              "distance           0.2086        0.1636          0.5851     0.8523    0.1672\n",
              "race_white         0.7667        0.6537          0.2671          .    0.1130\n",
              "w3income       86180.6253    65393.9285          0.4744     1.0647    0.1011\n",
              "p5hmage           39.7753       37.7946          0.4206     0.6679    0.0499\n",
              "p5numpla           1.0731        1.1062         -0.1182     0.6323    0.0066\n",
              "w3momed_hsb        0.2054        0.3923         -0.4627          .    0.1869\n",
              "            eCDF Max\n",
              "distance      0.2768\n",
              "race_white    0.1130\n",
              "w3income      0.2478\n",
              "p5hmage       0.1734\n",
              "p5numpla      0.0265\n",
              "w3momed_hsb   0.1869\n",
              "\n",
              "Summary of Balance for Matched Data:\n",
              "            Means Treated Means Control Std. Mean Diff. Var. Ratio eCDF Mean\n",
              "distance           0.2086        0.2085          0.0004     1.0018    0.0001\n",
              "race_white         0.7667        0.7720         -0.0127          .    0.0054\n",
              "w3income       86180.6253    86008.5828          0.0039     0.9870    0.0020\n",
              "p5hmage           39.7753       39.6344          0.0299     1.0346    0.0036\n",
              "p5numpla           1.0731        1.0527          0.0729     1.2501    0.0049\n",
              "w3momed_hsb        0.2054        0.2043          0.0027          .    0.0011\n",
              "            eCDF Max Std. Pair Dist.\n",
              "distance      0.0032          0.0006\n",
              "race_white    0.0054          0.0636\n",
              "w3income      0.0065          0.0916\n",
              "p5hmage       0.0140          0.1253\n",
              "p5numpla      0.0183          0.1572\n",
              "w3momed_hsb   0.0011          0.0719\n",
              "\n",
              "Sample Sizes:\n",
              "          Control Treated\n",
              "All          4499     930\n",
              "Matched       930     930\n",
              "Unmatched    3569       0\n",
              "Discarded       0       0\n"
            ]
          },
          "metadata": {}
        }
      ]
    },
    {
      "cell_type": "code",
      "source": [
        "plot(mod_match, type=\"jitter\")"
      ],
      "metadata": {
        "colab": {
          "base_uri": "https://localhost:8080/",
          "height": 454
        },
        "id": "6rabjoIB3BuF",
        "outputId": "65f42ff9-73bf-4a45-99d8-1873a2530bf0"
      },
      "execution_count": null,
      "outputs": [
        {
          "output_type": "stream",
          "name": "stdout",
          "text": [
            "To identify the units, use first mouse button; to stop, use second.\n"
          ]
        },
        {
          "output_type": "display_data",
          "data": {
            "text/plain": [
              "Plot with title “Distribution of Propensity Scores”"
            ],
            "image/png": "[encoded data removed]"
          },
          "metadata": {
            "image/png": {
              "width": 420,
              "height": 420
            }
          }
        }
      ]
    },
    {
      "cell_type": "code",
      "source": [
        "dta_m <- match.data(mod_match)\n",
        "dim(dta_m)\n",
        "\n",
        "head(dta_m)"
      ],
      "metadata": {
        "colab": {
          "base_uri": "https://localhost:8080/",
          "height": 304
        },
        "id": "Surbrh7i2oSG",
        "outputId": "6bea11ed-7d6e-4201-cace-7f147d8e4fd7"
      },
      "execution_count": null,
      "outputs": [
        {
          "output_type": "display_data",
          "data": {
            "text/html": [
              "<style>\n",
              ".list-inline {list-style: none; margin:0; padding: 0}\n",
              ".list-inline>li {display: inline-block}\n",
              ".list-inline>li:not(:last-child)::after {content: \"\\00b7\"; padding: 0 .5ex}\n",
              "</style>\n",
              "<ol class=list-inline><li>1860</li><li>10</li></ol>\n"
            ],
            "text/markdown": "1. 1860\n2. 10\n\n\n",
            "text/latex": "\\begin{enumerate*}\n\\item 1860\n\\item 10\n\\end{enumerate*}\n",
            "text/plain": [
              "[1] 1860   10"
            ]
          },
          "metadata": {}
        },
        {
          "output_type": "display_data",
          "data": {
            "text/html": [
              "<table class=\"dataframe\">\n",
              "<caption>A matchdata: 6 × 10</caption>\n",
              "<thead>\n",
              "\t<tr><th scope=col>c5r2mtsc_std</th><th scope=col>catholic</th><th scope=col>race_white</th><th scope=col>p5hmage</th><th scope=col>w3income</th><th scope=col>p5numpla</th><th scope=col>w3momed_hsb</th><th scope=col>distance</th><th scope=col>weights</th><th scope=col>subclass</th></tr>\n",
              "\t<tr><th scope=col>&lt;dbl&gt;</th><th scope=col>&lt;dbl&gt;</th><th scope=col>&lt;dbl&gt;</th><th scope=col>&lt;dbl&gt;</th><th scope=col>&lt;dbl&gt;</th><th scope=col>&lt;dbl&gt;</th><th scope=col>&lt;dbl&gt;</th><th scope=col>&lt;dbl&gt;</th><th scope=col>&lt;dbl&gt;</th><th scope=col>&lt;fct&gt;</th></tr>\n",
              "</thead>\n",
              "<tbody>\n",
              "\t<tr><td> 1.4512779</td><td>1</td><td>1</td><td>38</td><td> 87500.5</td><td>1</td><td>0</td><td>0.22060604</td><td>1</td><td>550</td></tr>\n",
              "\t<tr><td>-0.4538946</td><td>0</td><td>1</td><td>38</td><td> 37500.5</td><td>1</td><td>0</td><td>0.17087300</td><td>1</td><td>169</td></tr>\n",
              "\t<tr><td> 0.7474543</td><td>0</td><td>1</td><td>38</td><td> 62500.5</td><td>1</td><td>0</td><td>0.19453691</td><td>1</td><td>544</td></tr>\n",
              "\t<tr><td>-0.6117067</td><td>0</td><td>0</td><td>36</td><td> 17500.5</td><td>1</td><td>1</td><td>0.06598773</td><td>1</td><td>595</td></tr>\n",
              "\t<tr><td> 1.4853522</td><td>1</td><td>1</td><td>41</td><td>150000.5</td><td>2</td><td>0</td><td>0.27737491</td><td>1</td><td>263</td></tr>\n",
              "\t<tr><td>-0.5019691</td><td>1</td><td>1</td><td>35</td><td> 87500.5</td><td>1</td><td>0</td><td>0.20088982</td><td>1</td><td>270</td></tr>\n",
              "</tbody>\n",
              "</table>\n"
            ],
            "text/markdown": "\nA matchdata: 6 × 10\n\n| c5r2mtsc_std &lt;dbl&gt; | catholic &lt;dbl&gt; | race_white &lt;dbl&gt; | p5hmage &lt;dbl&gt; | w3income &lt;dbl&gt; | p5numpla &lt;dbl&gt; | w3momed_hsb &lt;dbl&gt; | distance &lt;dbl&gt; | weights &lt;dbl&gt; | subclass &lt;fct&gt; |\n|---|---|---|---|---|---|---|---|---|---|\n|  1.4512779 | 1 | 1 | 38 |  87500.5 | 1 | 0 | 0.22060604 | 1 | 550 |\n| -0.4538946 | 0 | 1 | 38 |  37500.5 | 1 | 0 | 0.17087300 | 1 | 169 |\n|  0.7474543 | 0 | 1 | 38 |  62500.5 | 1 | 0 | 0.19453691 | 1 | 544 |\n| -0.6117067 | 0 | 0 | 36 |  17500.5 | 1 | 1 | 0.06598773 | 1 | 595 |\n|  1.4853522 | 1 | 1 | 41 | 150000.5 | 2 | 0 | 0.27737491 | 1 | 263 |\n| -0.5019691 | 1 | 1 | 35 |  87500.5 | 1 | 0 | 0.20088982 | 1 | 270 |\n\n",
            "text/latex": "A matchdata: 6 × 10\n\\begin{tabular}{llllllllll}\n c5r2mtsc\\_std & catholic & race\\_white & p5hmage & w3income & p5numpla & w3momed\\_hsb & distance & weights & subclass\\\\\n <dbl> & <dbl> & <dbl> & <dbl> & <dbl> & <dbl> & <dbl> & <dbl> & <dbl> & <fct>\\\\\n\\hline\n\t  1.4512779 & 1 & 1 & 38 &  87500.5 & 1 & 0 & 0.22060604 & 1 & 550\\\\\n\t -0.4538946 & 0 & 1 & 38 &  37500.5 & 1 & 0 & 0.17087300 & 1 & 169\\\\\n\t  0.7474543 & 0 & 1 & 38 &  62500.5 & 1 & 0 & 0.19453691 & 1 & 544\\\\\n\t -0.6117067 & 0 & 0 & 36 &  17500.5 & 1 & 1 & 0.06598773 & 1 & 595\\\\\n\t  1.4853522 & 1 & 1 & 41 & 150000.5 & 2 & 0 & 0.27737491 & 1 & 263\\\\\n\t -0.5019691 & 1 & 1 & 35 &  87500.5 & 1 & 0 & 0.20088982 & 1 & 270\\\\\n\\end{tabular}\n",
            "text/plain": [
              "  c5r2mtsc_std catholic race_white p5hmage w3income p5numpla w3momed_hsb\n",
              "1  1.4512779   1        1          38       87500.5 1        0          \n",
              "2 -0.4538946   0        1          38       37500.5 1        0          \n",
              "3  0.7474543   0        1          38       62500.5 1        0          \n",
              "4 -0.6117067   0        0          36       17500.5 1        1          \n",
              "5  1.4853522   1        1          41      150000.5 2        0          \n",
              "6 -0.5019691   1        1          35       87500.5 1        0          \n",
              "  distance   weights subclass\n",
              "1 0.22060604 1       550     \n",
              "2 0.17087300 1       169     \n",
              "3 0.19453691 1       544     \n",
              "4 0.06598773 1       595     \n",
              "5 0.27737491 1       263     \n",
              "6 0.20088982 1       270     "
            ]
          },
          "metadata": {}
        }
      ]
    },
    {
      "cell_type": "markdown",
      "source": [
        "## 4) Examine covariate balance of matched sample  \n",
        "1. visual inspection\n",
        "2. t-tests of difference-in-means\n",
        "3. computation of the average absolute standardized difference (“standardized imbalance”)\n"
      ],
      "metadata": {
        "id": "bQJDCpVb3pyC"
      }
    },
    {
      "cell_type": "markdown",
      "source": [
        "### 1) Visual inspection"
      ],
      "metadata": {
        "id": "fATFRvDe3-09"
      }
    },
    {
      "cell_type": "code",
      "source": [
        "install.packages(\"gridExtra\")\n",
        "\n",
        "fn_bal <- function(dta, variable) {\n",
        "  dta$variable <- dta[, variable]\n",
        "  if (variable == 'w3income') dta$variable <- dta$variable / 10^3\n",
        "  dta$catholic <- as.factor(dta$catholic)\n",
        "  support <- c(min(dta$variable), max(dta$variable))\n",
        "  ggplot(dta, aes(x = distance, y = variable, color = catholic)) +\n",
        "    geom_point(alpha = 0.2, size = 1.3) +\n",
        "    geom_smooth(method = \"loess\", se = F) +\n",
        "    xlab(\"Propensity score\") +\n",
        "    ylab(variable) +\n",
        "    theme_bw() +\n",
        "    ylim(support)\n",
        "}\n",
        "\n",
        "library(gridExtra)\n",
        "grid.arrange(\n",
        "   fn_bal(dta_m, \"w3income\"),\n",
        "   fn_bal(dta_m, \"p5numpla\") + theme(legend.position = \"none\"),\n",
        "   fn_bal(dta_m, \"p5hmage\"),\n",
        "   fn_bal(dta_m, \"w3momed_hsb\") + theme(legend.position = \"none\"),\n",
        "   fn_bal(dta_m, \"race_white\"),\n",
        "   nrow = 3, widths = c(1, 0.8)\n",
        ")"
      ],
      "metadata": {
        "id": "893mgJfH2wql",
        "colab": {
          "base_uri": "https://localhost:8080/",
          "height": 802
        },
        "outputId": "b0fd1e44-3f36-42e2-d29e-5c1162926de4"
      },
      "execution_count": null,
      "outputs": [
        {
          "output_type": "stream",
          "name": "stderr",
          "text": [
            "Installing package into ‘/usr/local/lib/R/site-library’\n",
            "(as ‘lib’ is unspecified)\n",
            "\n"
          ]
        },
        {
          "output_type": "error",
          "ename": "ERROR",
          "evalue": "ignored",
          "traceback": [
            "Error: Discrete value supplied to continuous scale\nTraceback:\n",
            "1. grid.arrange(fn_bal(dta_m, \"w3income\"), fn_bal(dta_m, \"p5numpla\") + \n .     theme(legend.position = \"none\"), fn_bal(dta_m, \"p5hmage\"), \n .     fn_bal(dta_m, \"w3momed_hsb\") + theme(legend.position = \"none\"), \n .     fn_bal(dta_m, \"race_white\"), nrow = 3, widths = c(1, 0.8))",
            "2. arrangeGrob(...)",
            "3. lapply(grobs[toconv], ggplot2::ggplotGrob)",
            "4. FUN(X[[i]], ...)",
            "5. ggplot_gtable(ggplot_build(x))",
            "6. attach_plot_env(data$plot$plot_env)",
            "7. options(ggplot2_plot_env = env)",
            "8. ggplot_build(x)",
            "9. ggplot_build.ggplot(x)",
            "10. layout$train_position(data, scale_x(), scale_y())",
            "11. train_position(..., self = self)",
            "12. self$facet$train_scales(self$panel_scales_x, self$panel_scales_y, \n  .     layout, data, self$facet_params)",
            "13. train_scales(...)",
            "14. scale_apply(layer_data, y_vars, \"train\", SCALE_Y, y_scales)",
            "15. lapply(vars, function(var) {\n  .     pieces <- lapply(seq_along(scales), function(i) {\n  .         scales[[i]][[method]](data[[var]][scale_index[[i]]])\n  .     })\n  .     pieces[lengths(pieces) == 0] <- NULL\n  .     o <- order(unlist(scale_index))[seq_len(sum(lengths(pieces)))]\n  .     vec_c(!!!pieces)[o]\n  . })",
            "16. FUN(X[[i]], ...)",
            "17. lapply(seq_along(scales), function(i) {\n  .     scales[[i]][[method]](data[[var]][scale_index[[i]]])\n  . })",
            "18. FUN(X[[i]], ...)",
            "19. scales[[i]][[method]](data[[var]][scale_index[[i]]])",
            "20. train(..., self = self)",
            "21. self$range$train(x)",
            "22. train_continuous(x, self$range)",
            "23. stop(\"Discrete value supplied to continuous scale\", call. = FALSE)"
          ]
        }
      ]
    },
    {
      "cell_type": "markdown",
      "source": [
        "### 2) Difference-in-means  \n",
        "The means below indicate that we have attained a high degree of balance on the five covariates included in the model."
      ],
      "metadata": {
        "id": "X1rcuu4P4Ow8"
      }
    },
    {
      "cell_type": "code",
      "source": [
        "dta_m %>%\n",
        "  group_by(catholic) %>%\n",
        "  select(one_of(ecls_cov)) %>%\n",
        "  summarise_all(list(mean))"
      ],
      "metadata": {
        "colab": {
          "base_uri": "https://localhost:8080/",
          "height": 178
        },
        "id": "Ys-Ga6ZG4Aul",
        "outputId": "726bb5aa-02d0-4df8-9974-d79a130987f6"
      },
      "execution_count": null,
      "outputs": [
        {
          "output_type": "stream",
          "name": "stderr",
          "text": [
            "\u001b[1m\u001b[22mAdding missing grouping variables: `catholic`\n"
          ]
        },
        {
          "output_type": "display_data",
          "data": {
            "text/html": [
              "<table class=\"dataframe\">\n",
              "<caption>A tibble: 2 × 6</caption>\n",
              "<thead>\n",
              "\t<tr><th scope=col>catholic</th><th scope=col>race_white</th><th scope=col>p5hmage</th><th scope=col>w3income</th><th scope=col>p5numpla</th><th scope=col>w3momed_hsb</th></tr>\n",
              "\t<tr><th scope=col>&lt;dbl&gt;</th><th scope=col>&lt;dbl&gt;</th><th scope=col>&lt;dbl&gt;</th><th scope=col>&lt;dbl&gt;</th><th scope=col>&lt;dbl&gt;</th><th scope=col>&lt;dbl&gt;</th></tr>\n",
              "</thead>\n",
              "<tbody>\n",
              "\t<tr><td>0</td><td>0.7720430</td><td>39.63441</td><td>86008.58</td><td>1.052688</td><td>0.2043011</td></tr>\n",
              "\t<tr><td>1</td><td>0.7666667</td><td>39.77527</td><td>86180.63</td><td>1.073118</td><td>0.2053763</td></tr>\n",
              "</tbody>\n",
              "</table>\n"
            ],
            "text/markdown": "\nA tibble: 2 × 6\n\n| catholic &lt;dbl&gt; | race_white &lt;dbl&gt; | p5hmage &lt;dbl&gt; | w3income &lt;dbl&gt; | p5numpla &lt;dbl&gt; | w3momed_hsb &lt;dbl&gt; |\n|---|---|---|---|---|---|\n| 0 | 0.7720430 | 39.63441 | 86008.58 | 1.052688 | 0.2043011 |\n| 1 | 0.7666667 | 39.77527 | 86180.63 | 1.073118 | 0.2053763 |\n\n",
            "text/latex": "A tibble: 2 × 6\n\\begin{tabular}{llllll}\n catholic & race\\_white & p5hmage & w3income & p5numpla & w3momed\\_hsb\\\\\n <dbl> & <dbl> & <dbl> & <dbl> & <dbl> & <dbl>\\\\\n\\hline\n\t 0 & 0.7720430 & 39.63441 & 86008.58 & 1.052688 & 0.2043011\\\\\n\t 1 & 0.7666667 & 39.77527 & 86180.63 & 1.073118 & 0.2053763\\\\\n\\end{tabular}\n",
            "text/plain": [
              "  catholic race_white p5hmage  w3income p5numpla w3momed_hsb\n",
              "1 0        0.7720430  39.63441 86008.58 1.052688 0.2043011  \n",
              "2 1        0.7666667  39.77527 86180.63 1.073118 0.2053763  "
            ]
          },
          "metadata": {}
        }
      ]
    },
    {
      "cell_type": "code",
      "source": [
        "t.test(race_white ~ catholic, data = dta_m)"
      ],
      "metadata": {
        "colab": {
          "base_uri": "https://localhost:8080/",
          "height": 208
        },
        "id": "zIPrD0Kb4X7w",
        "outputId": "4380c73e-eedc-4f66-b52e-d1cc6a2c53ad"
      },
      "execution_count": null,
      "outputs": [
        {
          "output_type": "display_data",
          "data": {
            "text/plain": [
              "\n",
              "\tWelch Two Sample t-test\n",
              "\n",
              "data:  race_white by catholic\n",
              "t = 0.27508, df = 1857.9, p-value = 0.7833\n",
              "alternative hypothesis: true difference in means between group 0 and group 1 is not equal to 0\n",
              "95 percent confidence interval:\n",
              " -0.03295596  0.04370865\n",
              "sample estimates:\n",
              "mean in group 0 mean in group 1 \n",
              "      0.7720430       0.7666667 \n"
            ]
          },
          "metadata": {}
        }
      ]
    },
    {
      "cell_type": "code",
      "source": [
        "t.test(p5hmage ~ catholic, data = dta_m)"
      ],
      "metadata": {
        "colab": {
          "base_uri": "https://localhost:8080/",
          "height": 208
        },
        "id": "TdWjb6Zo4mII",
        "outputId": "ca3c1ca8-53e4-4c23-bdbb-2c794268fd96"
      },
      "execution_count": null,
      "outputs": [
        {
          "output_type": "display_data",
          "data": {
            "text/plain": [
              "\n",
              "\tWelch Two Sample t-test\n",
              "\n",
              "data:  p5hmage by catholic\n",
              "t = -0.6504, df = 1857.5, p-value = 0.5155\n",
              "alternative hypothesis: true difference in means between group 0 and group 1 is not equal to 0\n",
              "95 percent confidence interval:\n",
              " -0.5656133  0.2838929\n",
              "sample estimates:\n",
              "mean in group 0 mean in group 1 \n",
              "       39.63441        39.77527 \n"
            ]
          },
          "metadata": {}
        }
      ]
    },
    {
      "cell_type": "code",
      "source": [
        "t.test(w3income ~ catholic, data = dta_m)"
      ],
      "metadata": {
        "colab": {
          "base_uri": "https://localhost:8080/",
          "height": 208
        },
        "id": "EBkFiW984v5n",
        "outputId": "ebfb3c2a-ab76-432a-c8cf-5c9e4bf43574"
      },
      "execution_count": null,
      "outputs": [
        {
          "output_type": "display_data",
          "data": {
            "text/plain": [
              "\n",
              "\tWelch Two Sample t-test\n",
              "\n",
              "data:  w3income by catholic\n",
              "t = -0.084383, df = 1857.9, p-value = 0.9328\n",
              "alternative hypothesis: true difference in means between group 0 and group 1 is not equal to 0\n",
              "95 percent confidence interval:\n",
              " -4170.670  3826.585\n",
              "sample estimates:\n",
              "mean in group 0 mean in group 1 \n",
              "       86008.58        86180.63 \n"
            ]
          },
          "metadata": {}
        }
      ]
    },
    {
      "cell_type": "code",
      "source": [
        "t.test(p5numpla ~ catholic, data = dta_m)"
      ],
      "metadata": {
        "colab": {
          "base_uri": "https://localhost:8080/",
          "height": 208
        },
        "id": "3JqiYuD2413a",
        "outputId": "0e837449-694d-45fd-ce43-2b39a3a37802"
      },
      "execution_count": null,
      "outputs": [
        {
          "output_type": "display_data",
          "data": {
            "text/plain": [
              "\n",
              "\tWelch Two Sample t-test\n",
              "\n",
              "data:  p5numpla by catholic\n",
              "t = -1.6563, df = 1835.3, p-value = 0.09783\n",
              "alternative hypothesis: true difference in means between group 0 and group 1 is not equal to 0\n",
              "95 percent confidence interval:\n",
              " -0.04462141  0.00376120\n",
              "sample estimates:\n",
              "mean in group 0 mean in group 1 \n",
              "       1.052688        1.073118 \n"
            ]
          },
          "metadata": {}
        }
      ]
    },
    {
      "cell_type": "code",
      "source": [
        "t.test(w3momed_hsb ~ catholic, data = dta_m)"
      ],
      "metadata": {
        "colab": {
          "base_uri": "https://localhost:8080/",
          "height": 208
        },
        "id": "nxbYHogV4659",
        "outputId": "1629fd45-5591-41f7-eb5f-b00749221f0f"
      },
      "execution_count": null,
      "outputs": [
        {
          "output_type": "display_data",
          "data": {
            "text/plain": [
              "\n",
              "\tWelch Two Sample t-test\n",
              "\n",
              "data:  w3momed_hsb by catholic\n",
              "t = -0.057422, df = 1858, p-value = 0.9542\n",
              "alternative hypothesis: true difference in means between group 0 and group 1 is not equal to 0\n",
              "95 percent confidence interval:\n",
              " -0.03780109  0.03565055\n",
              "sample estimates:\n",
              "mean in group 0 mean in group 1 \n",
              "      0.2043011       0.2053763 \n"
            ]
          },
          "metadata": {}
        }
      ]
    },
    {
      "cell_type": "markdown",
      "source": [
        "### 4.3) Average absolute standardized difference\n",
        "\n",
        "As a measure of the average imbalance, we can calculate the following:\n",
        "\n",
        "∣∣βσ∣∣¯=1k∑x|βx|σx\n",
        "\n",
        "where βx\n",
        "\n",
        "is the difference between the covariate means in the treated and control groups in the matched sample. An average absolute standardized difference that is close to 0 is preferable, since that indicates small differences between the control and treatment groups in the matched sample.\n",
        "\n",
        "Try to implement a function that calculates the absolute standardized difference for any covariate in the matched sample. Then take the average for all the covariates."
      ],
      "metadata": {
        "id": "t-opJMzt5CPc"
      }
    },
    {
      "cell_type": "code",
      "source": [
        "plot(summary(mod_match), abs = FALSE)"
      ],
      "metadata": {
        "id": "qfPgsE5v3JHG",
        "outputId": "e33f093a-1deb-46dd-a825-a481d6e5bcd9",
        "colab": {
          "base_uri": "https://localhost:8080/",
          "height": 437
        }
      },
      "execution_count": null,
      "outputs": [
        {
          "output_type": "display_data",
          "data": {
            "text/plain": [
              "plot without title"
            ],
            "image/png": "[encoded data removed]"
          },
          "metadata": {
            "image/png": {
              "width": 420,
              "height": 420
            }
          }
        }
      ]
    },
    {
      "cell_type": "markdown",
      "source": [
        "Good matched data, the absolute standardized meand difference should between -0.1 ~ 0.1"
      ],
      "metadata": {
        "id": "qDBlRLby5W0Q"
      }
    },
    {
      "cell_type": "markdown",
      "source": [
        "## 5) Estimating treatment effect"
      ],
      "metadata": {
        "id": "T6G07WLp5rnl"
      }
    },
    {
      "cell_type": "code",
      "source": [
        "t.test(c5r2mtsc_std ~ catholic, data = dta_m)"
      ],
      "metadata": {
        "colab": {
          "base_uri": "https://localhost:8080/",
          "height": 208
        },
        "id": "55pYTWDr4_sN",
        "outputId": "4da8db04-bbbf-4383-8b60-a83859edef8c"
      },
      "execution_count": null,
      "outputs": [
        {
          "output_type": "display_data",
          "data": {
            "text/plain": [
              "\n",
              "\tWelch Two Sample t-test\n",
              "\n",
              "data:  c5r2mtsc_std by catholic\n",
              "t = 4.4425, df = 1847.3, p-value = 9.417e-06\n",
              "alternative hypothesis: true difference in means between group 0 and group 1 is not equal to 0\n",
              "95 percent confidence interval:\n",
              " 0.1026983 0.2650474\n",
              "sample estimates:\n",
              "mean in group 0 mean in group 1 \n",
              "      0.4035580       0.2196851 \n"
            ]
          },
          "metadata": {}
        }
      ]
    },
    {
      "cell_type": "markdown",
      "source": [
        "From matched paried show if every factor are the same for both  catholic student vs non-catholic student. Going to in catholic school yield negative impact on math test score"
      ],
      "metadata": {
        "id": "ebT87wbv8OaA"
      }
    },
    {
      "cell_type": "code",
      "source": [
        "lm_treat1 <- lm(c5r2mtsc_std ~ catholic, data = dta_m)\n",
        "summary(lm_treat1)"
      ],
      "metadata": {
        "colab": {
          "base_uri": "https://localhost:8080/",
          "height": 330
        },
        "id": "6g3HqJPB5y0T",
        "outputId": "5809c224-046c-40c3-b42e-30fdf4b27d17"
      },
      "execution_count": null,
      "outputs": [
        {
          "output_type": "display_data",
          "data": {
            "text/plain": [
              "\n",
              "Call:\n",
              "lm(formula = c5r2mtsc_std ~ catholic, data = dta_m)\n",
              "\n",
              "Residuals:\n",
              "    Min      1Q  Median      3Q     Max \n",
              "-3.4955 -0.5675  0.0332  0.6066  3.0301 \n",
              "\n",
              "Coefficients:\n",
              "            Estimate Std. Error t value Pr(>|t|)    \n",
              "(Intercept)  0.40356    0.02927  13.789  < 2e-16 ***\n",
              "catholic    -0.18387    0.04139  -4.443 9.41e-06 ***\n",
              "---\n",
              "Signif. codes:  0 ‘***’ 0.001 ‘**’ 0.01 ‘*’ 0.05 ‘.’ 0.1 ‘ ’ 1\n",
              "\n",
              "Residual standard error: 0.8925 on 1858 degrees of freedom\n",
              "Multiple R-squared:  0.01051,\tAdjusted R-squared:  0.009978 \n",
              "F-statistic: 19.74 on 1 and 1858 DF,  p-value: 9.414e-06\n"
            ]
          },
          "metadata": {}
        }
      ]
    },
    {
      "cell_type": "code",
      "source": [
        "lm_treat2 <- lm(c5r2mtsc_std ~ catholic + race_white + p5hmage +\n",
        "                  I(w3income / 10^3) + p5numpla + w3momed_hsb, data = dta_m)\n",
        "summary(lm_treat2)"
      ],
      "metadata": {
        "colab": {
          "base_uri": "https://localhost:8080/",
          "height": 434
        },
        "id": "mCknvhAz52z0",
        "outputId": "04c4b4de-3385-469d-809e-5c8964b2f8e1"
      },
      "execution_count": null,
      "outputs": [
        {
          "output_type": "display_data",
          "data": {
            "text/plain": [
              "\n",
              "Call:\n",
              "lm(formula = c5r2mtsc_std ~ catholic + race_white + p5hmage + \n",
              "    I(w3income/10^3) + p5numpla + w3momed_hsb, data = dta_m)\n",
              "\n",
              "Residuals:\n",
              "    Min      1Q  Median      3Q     Max \n",
              "-3.7095 -0.5353  0.0240  0.6104  2.8349 \n",
              "\n",
              "Coefficients:\n",
              "                   Estimate Std. Error t value Pr(>|t|)    \n",
              "(Intercept)      -0.6936331  0.1947415  -3.562 0.000378 ***\n",
              "catholic         -0.1826328  0.0393196  -4.645 3.64e-06 ***\n",
              "race_white        0.2682888  0.0468558   5.726 1.20e-08 ***\n",
              "p5hmage           0.0214028  0.0042952   4.983 6.84e-07 ***\n",
              "I(w3income/10^3)  0.0030883  0.0004647   6.645 3.96e-11 ***\n",
              "p5numpla         -0.1454435  0.0740612  -1.964 0.049699 *  \n",
              "w3momed_hsb      -0.3462700  0.0497587  -6.959 4.74e-12 ***\n",
              "---\n",
              "Signif. codes:  0 ‘***’ 0.001 ‘**’ 0.01 ‘*’ 0.05 ‘.’ 0.1 ‘ ’ 1\n",
              "\n",
              "Residual standard error: 0.8471 on 1853 degrees of freedom\n",
              "Multiple R-squared:  0.111,\tAdjusted R-squared:  0.1081 \n",
              "F-statistic: 38.57 on 6 and 1853 DF,  p-value: < 2.2e-16\n"
            ]
          },
          "metadata": {}
        }
      ]
    },
    {
      "cell_type": "markdown",
      "source": [
        "# Analysis from Rpub\n",
        "from https://rpubs.com/metricsdawg/1037525"
      ],
      "metadata": {
        "id": "5hcYipvwqYYQ"
      }
    },
    {
      "cell_type": "code",
      "source": [
        "library(tidyverse)\n",
        "ecls <- read_csv(\"http://www.mfilipski.com/files/ecls.csv\")\n",
        "spec(ecls)"
      ],
      "metadata": {
        "id": "9wlHbUfa6BT9",
        "colab": {
          "base_uri": "https://localhost:8080/",
          "height": 590
        },
        "outputId": "e82470a8-8201-44db-e698-49542b9675b1"
      },
      "execution_count": null,
      "outputs": [
        {
          "output_type": "stream",
          "name": "stderr",
          "text": [
            "\u001b[1mRows: \u001b[22m\u001b[34m5429\u001b[39m \u001b[1mColumns: \u001b[22m\u001b[34m23\u001b[39m\n",
            "\u001b[36m──\u001b[39m \u001b[1mColumn specification\u001b[22m \u001b[36m────────────────────────────────────────────────────────\u001b[39m\n",
            "\u001b[1mDelimiter:\u001b[22m \",\"\n",
            "\u001b[31mchr\u001b[39m  (5): childid, race, w3daded, w3momed, w3inccat\n",
            "\u001b[32mdbl\u001b[39m (18): catholic, race_white, race_black, race_hispanic, race_asian, p5num...\n",
            "\n",
            "\u001b[36mℹ\u001b[39m Use `spec()` to retrieve the full column specification for this data.\n",
            "\u001b[36mℹ\u001b[39m Specify the column types or set `show_col_types = FALSE` to quiet this message.\n"
          ]
        },
        {
          "output_type": "display_data",
          "data": {
            "text/plain": [
              "cols(\n",
              "  childid = \u001b[31mcol_character()\u001b[39m,\n",
              "  catholic = \u001b[32mcol_double()\u001b[39m,\n",
              "  race = \u001b[31mcol_character()\u001b[39m,\n",
              "  race_white = \u001b[32mcol_double()\u001b[39m,\n",
              "  race_black = \u001b[32mcol_double()\u001b[39m,\n",
              "  race_hispanic = \u001b[32mcol_double()\u001b[39m,\n",
              "  race_asian = \u001b[32mcol_double()\u001b[39m,\n",
              "  p5numpla = \u001b[32mcol_double()\u001b[39m,\n",
              "  p5hmage = \u001b[32mcol_double()\u001b[39m,\n",
              "  p5hdage = \u001b[32mcol_double()\u001b[39m,\n",
              "  w3daded = \u001b[31mcol_character()\u001b[39m,\n",
              "  w3momed = \u001b[31mcol_character()\u001b[39m,\n",
              "  w3daded_hsb = \u001b[32mcol_double()\u001b[39m,\n",
              "  w3momed_hsb = \u001b[32mcol_double()\u001b[39m,\n",
              "  w3momscr = \u001b[32mcol_double()\u001b[39m,\n",
              "  w3dadscr = \u001b[32mcol_double()\u001b[39m,\n",
              "  w3inccat = \u001b[31mcol_character()\u001b[39m,\n",
              "  w3income = \u001b[32mcol_double()\u001b[39m,\n",
              "  w3povrty = \u001b[32mcol_double()\u001b[39m,\n",
              "  p5fstamp = \u001b[32mcol_double()\u001b[39m,\n",
              "  c5r2mtsc = \u001b[32mcol_double()\u001b[39m,\n",
              "  c5r2mtsc_std = \u001b[32mcol_double()\u001b[39m,\n",
              "  w3income_1k = \u001b[32mcol_double()\u001b[39m\n",
              ")"
            ]
          },
          "metadata": {}
        }
      ]
    },
    {
      "cell_type": "code",
      "source": [
        "ecls %>%\n",
        "  group_by(catholic) %>%\n",
        "  summarise_at(vars(c5r2mtsc_std), list(n=length, min=min, mean=mean, max=max, sd=sd)) %>%\n",
        "  mutate(std_err = sd/sqrt(n))"
      ],
      "metadata": {
        "colab": {
          "base_uri": "https://localhost:8080/",
          "height": 161
        },
        "id": "_dOchOTHq3ZG",
        "outputId": "ec80a6eb-1e47-4803-eca5-457c72a3841f"
      },
      "execution_count": null,
      "outputs": [
        {
          "output_type": "display_data",
          "data": {
            "text/html": [
              "<table class=\"dataframe\">\n",
              "<caption>A tibble: 2 × 7</caption>\n",
              "<thead>\n",
              "\t<tr><th scope=col>catholic</th><th scope=col>n</th><th scope=col>min</th><th scope=col>mean</th><th scope=col>max</th><th scope=col>sd</th><th scope=col>std_err</th></tr>\n",
              "\t<tr><th scope=col>&lt;dbl&gt;</th><th scope=col>&lt;int&gt;</th><th scope=col>&lt;dbl&gt;</th><th scope=col>&lt;dbl&gt;</th><th scope=col>&lt;dbl&gt;</th><th scope=col>&lt;dbl&gt;</th><th scope=col>&lt;dbl&gt;</th></tr>\n",
              "</thead>\n",
              "<tbody>\n",
              "\t<tr><td>0</td><td>4499</td><td>-3.103553</td><td>0.1631279</td><td>3.433658</td><td>0.9736968</td><td>0.01451663</td></tr>\n",
              "\t<tr><td>1</td><td> 930</td><td>-2.592234</td><td>0.2196851</td><td>3.055238</td><td>0.8579016</td><td>0.02813170</td></tr>\n",
              "</tbody>\n",
              "</table>\n"
            ],
            "text/markdown": "\nA tibble: 2 × 7\n\n| catholic &lt;dbl&gt; | n &lt;int&gt; | min &lt;dbl&gt; | mean &lt;dbl&gt; | max &lt;dbl&gt; | sd &lt;dbl&gt; | std_err &lt;dbl&gt; |\n|---|---|---|---|---|---|---|\n| 0 | 4499 | -3.103553 | 0.1631279 | 3.433658 | 0.9736968 | 0.01451663 |\n| 1 |  930 | -2.592234 | 0.2196851 | 3.055238 | 0.8579016 | 0.02813170 |\n\n",
            "text/latex": "A tibble: 2 × 7\n\\begin{tabular}{lllllll}\n catholic & n & min & mean & max & sd & std\\_err\\\\\n <dbl> & <int> & <dbl> & <dbl> & <dbl> & <dbl> & <dbl>\\\\\n\\hline\n\t 0 & 4499 & -3.103553 & 0.1631279 & 3.433658 & 0.9736968 & 0.01451663\\\\\n\t 1 &  930 & -2.592234 & 0.2196851 & 3.055238 & 0.8579016 & 0.02813170\\\\\n\\end{tabular}\n",
            "text/plain": [
              "  catholic n    min       mean      max      sd        std_err   \n",
              "1 0        4499 -3.103553 0.1631279 3.433658 0.9736968 0.01451663\n",
              "2 1         930 -2.592234 0.2196851 3.055238 0.8579016 0.02813170"
            ]
          },
          "metadata": {}
        }
      ]
    },
    {
      "cell_type": "markdown",
      "source": [
        "Comparing average score by group, chatholic group  have higher mean (0.21).\n"
      ],
      "metadata": {
        "id": "EYraLZp0tRZ7"
      }
    },
    {
      "cell_type": "code",
      "source": [
        "t.test(c5r2mtsc_std ~ catholic, data = ecls)"
      ],
      "metadata": {
        "colab": {
          "base_uri": "https://localhost:8080/",
          "height": 208
        },
        "id": "BWiBe1OAr27P",
        "outputId": "3af1d51c-1c51-484e-c8ec-e6af521a1616"
      },
      "execution_count": null,
      "outputs": [
        {
          "output_type": "display_data",
          "data": {
            "text/plain": [
              "\n",
              "\tWelch Two Sample t-test\n",
              "\n",
              "data:  c5r2mtsc_std by catholic\n",
              "t = -1.7866, df = 1468.1, p-value = 0.07421\n",
              "alternative hypothesis: true difference in means between group 0 and group 1 is not equal to 0\n",
              "95 percent confidence interval:\n",
              " -0.118653665  0.005539377\n",
              "sample estimates:\n",
              "mean in group 0 mean in group 1 \n",
              "      0.1631279       0.2196851 \n"
            ]
          },
          "metadata": {}
        }
      ]
    },
    {
      "cell_type": "markdown",
      "source": [
        "Anyway, the t-test comparing mean between 2 group show p-value > 0.05 / could reject alternative hypothesis $H_0$ = 0 since the confidence interval have 0"
      ],
      "metadata": {
        "id": "Rb1l5LOCurPG"
      }
    },
    {
      "cell_type": "code",
      "source": [
        "reg_model <- lm(c5r2mtsc_std ~ catholic, data = ecls)\n",
        "summary(reg_model)"
      ],
      "metadata": {
        "colab": {
          "base_uri": "https://localhost:8080/",
          "height": 330
        },
        "id": "X4XF5BsvtakO",
        "outputId": "88f33dd8-b26d-4f50-a490-5f7ae0b584d8"
      },
      "execution_count": null,
      "outputs": [
        {
          "output_type": "display_data",
          "data": {
            "text/plain": [
              "\n",
              "Call:\n",
              "lm(formula = c5r2mtsc_std ~ catholic, data = ecls)\n",
              "\n",
              "Residuals:\n",
              "    Min      1Q  Median      3Q     Max \n",
              "-3.2667 -0.6082  0.0538  0.6292  3.2705 \n",
              "\n",
              "Coefficients:\n",
              "            Estimate Std. Error t value Pr(>|t|)    \n",
              "(Intercept)  0.16313    0.01424  11.459   <2e-16 ***\n",
              "catholic     0.05656    0.03440   1.644      0.1    \n",
              "---\n",
              "Signif. codes:  0 ‘***’ 0.001 ‘**’ 0.01 ‘*’ 0.05 ‘.’ 0.1 ‘ ’ 1\n",
              "\n",
              "Residual standard error: 0.9549 on 5427 degrees of freedom\n",
              "Multiple R-squared:  0.000498,\tAdjusted R-squared:  0.0003138 \n",
              "F-statistic: 2.704 on 1 and 5427 DF,  p-value: 0.1002\n"
            ]
          },
          "metadata": {}
        }
      ]
    },
    {
      "cell_type": "markdown",
      "source": [
        "From simple regression analysis show low p-value on coefficient of independent variable `catholic`"
      ],
      "metadata": {
        "id": "GYbzCA7JwojM"
      }
    },
    {
      "cell_type": "code",
      "source": [
        "reg_model2 <- lm(ecls$c5r2mtsc_std ~ catholic + w3income_1k + p5numpla + w3momed_hsb, data = ecls)\n",
        "summary(reg_model2)"
      ],
      "metadata": {
        "colab": {
          "base_uri": "https://localhost:8080/",
          "height": 399
        },
        "id": "mHYH87dqwOmM",
        "outputId": "817bc2ce-6fca-4c4b-f175-061d23d9d524"
      },
      "execution_count": null,
      "outputs": [
        {
          "output_type": "display_data",
          "data": {
            "text/plain": [
              "\n",
              "Call:\n",
              "lm(formula = ecls$c5r2mtsc_std ~ catholic + w3income_1k + p5numpla + \n",
              "    w3momed_hsb, data = ecls)\n",
              "\n",
              "Residuals:\n",
              "    Min      1Q  Median      3Q     Max \n",
              "-3.3922 -0.5696  0.0372  0.5986  3.2572 \n",
              "\n",
              "Coefficients:\n",
              "              Estimate Std. Error t value Pr(>|t|)    \n",
              "(Intercept)  0.0733290  0.0491661   1.491 0.135900    \n",
              "catholic    -0.1273899  0.0328888  -3.873 0.000109 ***\n",
              "w3income_1k  0.0053247  0.0003026  17.595  < 2e-16 ***\n",
              "p5numpla    -0.1009432  0.0355779  -2.837 0.004567 ** \n",
              "w3momed_hsb -0.3740355  0.0271962 -13.753  < 2e-16 ***\n",
              "---\n",
              "Signif. codes:  0 ‘***’ 0.001 ‘**’ 0.01 ‘*’ 0.05 ‘.’ 0.1 ‘ ’ 1\n",
              "\n",
              "Residual standard error: 0.8941 on 5424 degrees of freedom\n",
              "Multiple R-squared:  0.1242,\tAdjusted R-squared:  0.1235 \n",
              "F-statistic: 192.3 on 4 and 5424 DF,  p-value: < 2.2e-16\n"
            ]
          },
          "metadata": {}
        }
      ]
    },
    {
      "cell_type": "markdown",
      "source": [
        "When include the other independent variable `w3income_1k`, `w3income_1k`, `w3momed_hsb`. The coefficient for catholic became significant."
      ],
      "metadata": {
        "id": "x0fZkz27xpYK"
      }
    },
    {
      "cell_type": "code",
      "source": [],
      "metadata": {
        "id": "cNmSXYzDyI_s"
      },
      "execution_count": null,
      "outputs": []
    },
    {
      "cell_type": "code",
      "source": [],
      "metadata": {
        "id": "QbLWTyzvxWO-"
      },
      "execution_count": null,
      "outputs": []
    }
  ]
}